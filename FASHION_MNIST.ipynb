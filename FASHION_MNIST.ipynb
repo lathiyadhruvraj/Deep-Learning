{
  "nbformat": 4,
  "nbformat_minor": 0,
  "metadata": {
    "colab": {
      "name": "FASHION_MNIST.ipynb",
      "provenance": [],
      "authorship_tag": "ABX9TyNhAtHpXezRasFy0Js8BSHa",
      "include_colab_link": true
    },
    "kernelspec": {
      "name": "python3",
      "display_name": "Python 3"
    },
    "language_info": {
      "name": "python"
    },
    "accelerator": "GPU"
  },
  "cells": [
    {
      "cell_type": "markdown",
      "metadata": {
        "id": "view-in-github",
        "colab_type": "text"
      },
      "source": [
        "<a href=\"https://colab.research.google.com/github/lathiyadhruvraj/Deep-Learning/blob/main/FASHION_MNIST.ipynb\" target=\"_parent\"><img src=\"https://colab.research.google.com/assets/colab-badge.svg\" alt=\"Open In Colab\"/></a>"
      ]
    },
    {
      "cell_type": "code",
      "metadata": {
        "colab": {
          "base_uri": "https://localhost:8080/"
        },
        "id": "RvQjuEvAd-ra",
        "outputId": "fb71a575-041b-4715-a4b4-df66372ba2cc"
      },
      "source": [
        "import tensorflow as tf\n",
        "print(tf.__version__)"
      ],
      "execution_count": 5,
      "outputs": [
        {
          "output_type": "stream",
          "text": [
            "2.4.1\n"
          ],
          "name": "stdout"
        }
      ]
    },
    {
      "cell_type": "code",
      "metadata": {
        "id": "jAlO80-VeU7J"
      },
      "source": [
        "import numpy as np\n",
        "import matplotlib.pyplot as plt\n",
        "from keras.layers import LeakyReLU\n",
        "from tensorflow.keras.layers import Input, Conv2D, Dense, Flatten, Dropout\n",
        "from tensorflow.keras.models import Model"
      ],
      "execution_count": 6,
      "outputs": []
    },
    {
      "cell_type": "code",
      "metadata": {
        "id": "YHVlgMhKesfG",
        "colab": {
          "base_uri": "https://localhost:8080/"
        },
        "outputId": "e77ce3a1-c677-4543-8b32-7158ee518d1a"
      },
      "source": [
        "# Fashion MNIST\n",
        "# 28 x 28 grayscale images of different types of clothing\n",
        "\n",
        "fashion_mnist = tf.keras.datasets.fashion_mnist\n",
        "\n",
        "(x_train, y_train),(x_test, y_test) = fashion_mnist.load_data()"
      ],
      "execution_count": 7,
      "outputs": [
        {
          "output_type": "stream",
          "text": [
            "Downloading data from https://storage.googleapis.com/tensorflow/tf-keras-datasets/train-labels-idx1-ubyte.gz\n",
            "32768/29515 [=================================] - 0s 0us/step\n",
            "Downloading data from https://storage.googleapis.com/tensorflow/tf-keras-datasets/train-images-idx3-ubyte.gz\n",
            "26427392/26421880 [==============================] - 0s 0us/step\n",
            "Downloading data from https://storage.googleapis.com/tensorflow/tf-keras-datasets/t10k-labels-idx1-ubyte.gz\n",
            "8192/5148 [===============================================] - 0s 0us/step\n",
            "Downloading data from https://storage.googleapis.com/tensorflow/tf-keras-datasets/t10k-images-idx3-ubyte.gz\n",
            "4423680/4422102 [==============================] - 0s 0us/step\n"
          ],
          "name": "stdout"
        }
      ]
    },
    {
      "cell_type": "code",
      "metadata": {
        "colab": {
          "base_uri": "https://localhost:8080/"
        },
        "id": "hIdrEiPKff6_",
        "outputId": "e5374c18-09b7-4128-e71c-b9a5cb1a53ad"
      },
      "source": [
        "x_train.shape"
      ],
      "execution_count": 8,
      "outputs": [
        {
          "output_type": "execute_result",
          "data": {
            "text/plain": [
              "(60000, 28, 28)"
            ]
          },
          "metadata": {
            "tags": []
          },
          "execution_count": 8
        }
      ]
    },
    {
      "cell_type": "code",
      "metadata": {
        "colab": {
          "base_uri": "https://localhost:8080/"
        },
        "id": "_KdLBarafjV-",
        "outputId": "8cd3ecec-c5d0-4bc9-a27e-3f9417f5af9c"
      },
      "source": [
        "x_test.shape"
      ],
      "execution_count": 9,
      "outputs": [
        {
          "output_type": "execute_result",
          "data": {
            "text/plain": [
              "(10000, 28, 28)"
            ]
          },
          "metadata": {
            "tags": []
          },
          "execution_count": 9
        }
      ]
    },
    {
      "cell_type": "code",
      "metadata": {
        "colab": {
          "base_uri": "https://localhost:8080/"
        },
        "id": "cqUhgG7BflmC",
        "outputId": "3903079e-dad8-4db8-b200-68b186493d0b"
      },
      "source": [
        "y_train.shape"
      ],
      "execution_count": 10,
      "outputs": [
        {
          "output_type": "execute_result",
          "data": {
            "text/plain": [
              "(60000,)"
            ]
          },
          "metadata": {
            "tags": []
          },
          "execution_count": 10
        }
      ]
    },
    {
      "cell_type": "code",
      "metadata": {
        "colab": {
          "base_uri": "https://localhost:8080/"
        },
        "id": "UQ44-AWdfp0X",
        "outputId": "24451c82-9d29-4856-db15-a0aaed3d95d8"
      },
      "source": [
        "y_test.shape"
      ],
      "execution_count": 11,
      "outputs": [
        {
          "output_type": "execute_result",
          "data": {
            "text/plain": [
              "(10000,)"
            ]
          },
          "metadata": {
            "tags": []
          },
          "execution_count": 11
        }
      ]
    },
    {
      "cell_type": "markdown",
      "metadata": {
        "id": "21wBG3jnEXLS"
      },
      "source": [
        "The Fashion-MNIST dataset is proposed as a more challenging replacement dataset for the MNIST dataset.\n",
        "\n",
        "It is a dataset comprised of 60,000 small square 28×28 pixel grayscale images of items of 10 types of clothing, such as shoes, t-shirts, dresses, and more. The mapping of all 0-9 integers to class labels is listed below.\n",
        "\n",
        "0 : T-shirt/top <br>\n",
        "1 : Trouser <br>\n",
        "2 : Pullover <br>\n",
        "3 : Dress <br>\n",
        "4 : Coat <br>\n",
        "5 : Sandal <br>\n",
        "6 : Shirt <br>\n",
        "7 : Sneaker <br>\n",
        "8 : Bag <br>\n",
        "9 : Ankle boot"
      ]
    },
    {
      "cell_type": "code",
      "metadata": {
        "colab": {
          "base_uri": "https://localhost:8080/",
          "height": 282
        },
        "id": "aFgA91rSfsKJ",
        "outputId": "fe00e0c9-ec5f-4798-e681-b64821c9389e"
      },
      "source": [
        "plt.imshow(x_train[1])\n",
        "#it will show heatmap"
      ],
      "execution_count": 12,
      "outputs": [
        {
          "output_type": "execute_result",
          "data": {
            "text/plain": [
              "<matplotlib.image.AxesImage at 0x7f58f3486590>"
            ]
          },
          "metadata": {
            "tags": []
          },
          "execution_count": 12
        },
        {
          "output_type": "display_data",
          "data": {
            "image/png": "[encoded data removed]",
            "text/plain": [
              "<Figure size 432x288 with 1 Axes>"
            ]
          },
          "metadata": {
            "tags": [],
            "needs_background": "light"
          }
        }
      ]
    },
    {
      "cell_type": "code",
      "metadata": {
        "colab": {
          "base_uri": "https://localhost:8080/",
          "height": 1000
        },
        "id": "M_1VhvKOBquW",
        "outputId": "b8a4b96b-ad90-4b85-dc8b-942c6f6fbc90"
      },
      "source": [
        "# train data\n",
        "\n",
        "for i in np.random.randint(60000,size=5):\n",
        "  print(\"no :\",i, \",category :\", y_train[i])\n",
        "  plt.imshow(x_train[i], cmap='gray')\n",
        "  plt.show()\n"
      ],
      "execution_count": 13,
      "outputs": [
        {
          "output_type": "stream",
          "text": [
            "no : 59137 ,category : 1\n"
          ],
          "name": "stdout"
        },
        {
          "output_type": "display_data",
          "data": {
            "image/png": "[encoded data removed]",
            "text/plain": [
              "<Figure size 432x288 with 1 Axes>"
            ]
          },
          "metadata": {
            "tags": [],
            "needs_background": "light"
          }
        },
        {
          "output_type": "stream",
          "text": [
            "no : 11953 ,category : 3\n"
          ],
          "name": "stdout"
        },
        {
          "output_type": "display_data",
          "data": {
            "image/png": "[encoded data removed]",
            "text/plain": [
              "<Figure size 432x288 with 1 Axes>"
            ]
          },
          "metadata": {
            "tags": [],
            "needs_background": "light"
          }
        },
        {
          "output_type": "stream",
          "text": [
            "no : 9791 ,category : 8\n"
          ],
          "name": "stdout"
        },
        {
          "output_type": "display_data",
          "data": {
            "image/png": "[encoded data removed]",
            "text/plain": [
              "<Figure size 432x288 with 1 Axes>"
            ]
          },
          "metadata": {
            "tags": [],
            "needs_background": "light"
          }
        },
        {
          "output_type": "stream",
          "text": [
            "no : 2782 ,category : 8\n"
          ],
          "name": "stdout"
        },
        {
          "output_type": "display_data",
          "data": {
            "image/png": "[encoded data removed]",
            "text/plain": [
              "<Figure size 432x288 with 1 Axes>"
            ]
          },
          "metadata": {
            "tags": [],
            "needs_background": "light"
          }
        },
        {
          "output_type": "stream",
          "text": [
            "no : 15931 ,category : 4\n"
          ],
          "name": "stdout"
        },
        {
          "output_type": "display_data",
          "data": {
            "image/png": "[encoded data removed]",
            "text/plain": [
              "<Figure size 432x288 with 1 Axes>"
            ]
          },
          "metadata": {
            "tags": [],
            "needs_background": "light"
          }
        }
      ]
    },
    {
      "cell_type": "code",
      "metadata": {
        "colab": {
          "base_uri": "https://localhost:8080/",
          "height": 1000
        },
        "id": "7Uqczu7nBwUe",
        "outputId": "c124e165-5fe4-42ab-8bbe-d42a85b22511"
      },
      "source": [
        "# test data\n",
        "\n",
        "for i in np.random.randint(10000,size=5):\n",
        "  print(\"no :\",i, \",category :\", y_test[i])\n",
        "  plt.imshow(x_test[i], cmap='gray')\n",
        "  plt.show()"
      ],
      "execution_count": 14,
      "outputs": [
        {
          "output_type": "stream",
          "text": [
            "no : 9593 ,category : 1\n"
          ],
          "name": "stdout"
        },
        {
          "output_type": "display_data",
          "data": {
            "image/png": "[encoded data removed]",
            "text/plain": [
              "<Figure size 432x288 with 1 Axes>"
            ]
          },
          "metadata": {
            "tags": [],
            "needs_background": "light"
          }
        },
        {
          "output_type": "stream",
          "text": [
            "no : 3966 ,category : 6\n"
          ],
          "name": "stdout"
        },
        {
          "output_type": "display_data",
          "data": {
            "image/png": "[encoded data removed]",
            "text/plain": [
              "<Figure size 432x288 with 1 Axes>"
            ]
          },
          "metadata": {
            "tags": [],
            "needs_background": "light"
          }
        },
        {
          "output_type": "stream",
          "text": [
            "no : 8721 ,category : 3\n"
          ],
          "name": "stdout"
        },
        {
          "output_type": "display_data",
          "data": {
            "image/png": "[encoded data removed]",
            "text/plain": [
              "<Figure size 432x288 with 1 Axes>"
            ]
          },
          "metadata": {
            "tags": [],
            "needs_background": "light"
          }
        },
        {
          "output_type": "stream",
          "text": [
            "no : 9061 ,category : 0\n"
          ],
          "name": "stdout"
        },
        {
          "output_type": "display_data",
          "data": {
            "image/png": "[encoded data removed]",
            "text/plain": [
              "<Figure size 432x288 with 1 Axes>"
            ]
          },
          "metadata": {
            "tags": [],
            "needs_background": "light"
          }
        },
        {
          "output_type": "stream",
          "text": [
            "no : 730 ,category : 9\n"
          ],
          "name": "stdout"
        },
        {
          "output_type": "display_data",
          "data": {
            "image/png": "[encoded data removed]",
            "text/plain": [
              "<Figure size 432x288 with 1 Axes>"
            ]
          },
          "metadata": {
            "tags": [],
            "needs_background": "light"
          }
        }
      ]
    },
    {
      "cell_type": "code",
      "metadata": {
        "colab": {
          "base_uri": "https://localhost:8080/"
        },
        "id": "ZO7WgLCJE6VN",
        "outputId": "733d84cf-6666-4aba-a6a4-52eb68afae09"
      },
      "source": [
        "# SCALING\n",
        "\n",
        "x_train, x_test = x_train/255.0, x_test/255.0\n",
        "\n",
        "x_train.shape"
      ],
      "execution_count": 15,
      "outputs": [
        {
          "output_type": "execute_result",
          "data": {
            "text/plain": [
              "(60000, 28, 28)"
            ]
          },
          "metadata": {
            "tags": []
          },
          "execution_count": 15
        }
      ]
    },
    {
      "cell_type": "code",
      "metadata": {
        "id": "8DzOmeAgGbOU"
      },
      "source": [
        "# Conv2D WANTS 4D WE HAVE 3D so we will ADD one dim\n",
        "\n",
        "# we have --> N x H x W\n",
        "# convert --> N x H x W x 1"
      ],
      "execution_count": 16,
      "outputs": []
    },
    {
      "cell_type": "code",
      "metadata": {
        "id": "SonjIOVgbJHI"
      },
      "source": [
        "x_train = np.expand_dims(x_train, -1)\n",
        "x_test = np.expand_dims(x_test, -1)"
      ],
      "execution_count": 17,
      "outputs": []
    },
    {
      "cell_type": "code",
      "metadata": {
        "colab": {
          "base_uri": "https://localhost:8080/"
        },
        "id": "eZY0r5OvbZPf",
        "outputId": "fc0f8170-e684-437e-e4d6-4394ba4da308"
      },
      "source": [
        "x_train.shape"
      ],
      "execution_count": 18,
      "outputs": [
        {
          "output_type": "execute_result",
          "data": {
            "text/plain": [
              "(60000, 28, 28, 1)"
            ]
          },
          "metadata": {
            "tags": []
          },
          "execution_count": 18
        }
      ]
    },
    {
      "cell_type": "code",
      "metadata": {
        "colab": {
          "base_uri": "https://localhost:8080/"
        },
        "id": "nK-tcPVJbb8a",
        "outputId": "fa5e33be-ef08-4d92-9baa-8c5b1fe5060d"
      },
      "source": [
        "x_test.shape"
      ],
      "execution_count": 19,
      "outputs": [
        {
          "output_type": "execute_result",
          "data": {
            "text/plain": [
              "(10000, 28, 28, 1)"
            ]
          },
          "metadata": {
            "tags": []
          },
          "execution_count": 19
        }
      ]
    },
    {
      "cell_type": "code",
      "metadata": {
        "colab": {
          "base_uri": "https://localhost:8080/"
        },
        "id": "uHXlWveNbdBZ",
        "outputId": "90be755e-9c0a-4c59-9b19-32ee2fd11b58"
      },
      "source": [
        "# Number of classes\n",
        "print(set(y_train))\n",
        "K = len(set(y_train))\n",
        "K"
      ],
      "execution_count": 20,
      "outputs": [
        {
          "output_type": "stream",
          "text": [
            "{0, 1, 2, 3, 4, 5, 6, 7, 8, 9}\n"
          ],
          "name": "stdout"
        },
        {
          "output_type": "execute_result",
          "data": {
            "text/plain": [
              "10"
            ]
          },
          "metadata": {
            "tags": []
          },
          "execution_count": 20
        }
      ]
    },
    {
      "cell_type": "code",
      "metadata": {
        "colab": {
          "base_uri": "https://localhost:8080/"
        },
        "id": "OZx_1xvDb2Fc",
        "outputId": "d77355d3-f96f-4395-db37-969b2cc171b3"
      },
      "source": [
        "x_train[0].shape"
      ],
      "execution_count": 21,
      "outputs": [
        {
          "output_type": "execute_result",
          "data": {
            "text/plain": [
              "(28, 28, 1)"
            ]
          },
          "metadata": {
            "tags": []
          },
          "execution_count": 21
        }
      ]
    },
    {
      "cell_type": "code",
      "metadata": {
        "id": "IbKd_9tEdd-0"
      },
      "source": [
        "# Build the model\n",
        "\n",
        "i = Input(shape = x_train[0].shape)\n",
        "x = Conv2D(32, (4,4), strides=2, activation=tf.keras.layers.LeakyReLU(alpha=0.2))(i) #32, 64, 128 are features\n",
        "x = Conv2D(64, (4,4), strides=2, activation=tf.keras.layers.LeakyReLU(alpha=0.2))(x)\n",
        "x = Conv2D(128, (4,4), strides=2, activation=tf.keras.layers.LeakyReLU(alpha=0.2))(x)\n",
        "x = Flatten()(x) # flatten works as we have sqaure images\n",
        "x = Dropout(0.5)(x)\n",
        "x = Dense(512, activation=tf.keras.layers.LeakyReLU(alpha=0.2))(x)\n",
        "x = Dropout(0.3)(x)\n",
        "x = Dense(1024, activation=tf.keras.layers.LeakyReLU(alpha=0.2))(x)\n",
        "x = Dropout(0.3)(x)\n",
        "x = Dense(K, activation='softmax')(x)\n",
        "\n",
        "model = Model(i,x)\n"
      ],
      "execution_count": 34,
      "outputs": []
    },
    {
      "cell_type": "code",
      "metadata": {
        "id": "7E9-SA25fL8K"
      },
      "source": [
        "model.compile(optimizer='adam',\n",
        "              loss='sparse_categorical_crossentropy',\n",
        "              metrics=['accuracy'])"
      ],
      "execution_count": 36,
      "outputs": []
    },
    {
      "cell_type": "code",
      "metadata": {
        "colab": {
          "base_uri": "https://localhost:8080/"
        },
        "id": "_Uj8kqP6fY54",
        "outputId": "885369d5-f071-4260-fa82-4696b7c4dd94"
      },
      "source": [
        "r = model.fit(x_train, y_train, validation_data=(x_test, y_test), epochs=20)"
      ],
      "execution_count": 37,
      "outputs": [
        {
          "output_type": "stream",
          "text": [
            "Epoch 1/20\n",
            "1875/1875 [==============================] - 7s 4ms/step - loss: 0.7575 - accuracy: 0.7164 - val_loss: 0.4482 - val_accuracy: 0.8339\n",
            "Epoch 2/20\n",
            "1875/1875 [==============================] - 7s 3ms/step - loss: 0.4425 - accuracy: 0.8377 - val_loss: 0.4060 - val_accuracy: 0.8507\n",
            "Epoch 3/20\n",
            "1875/1875 [==============================] - 6s 3ms/step - loss: 0.3945 - accuracy: 0.8544 - val_loss: 0.3775 - val_accuracy: 0.8604\n",
            "Epoch 4/20\n",
            "1875/1875 [==============================] - 6s 3ms/step - loss: 0.3761 - accuracy: 0.8615 - val_loss: 0.3838 - val_accuracy: 0.8532\n",
            "Epoch 5/20\n",
            "1875/1875 [==============================] - 6s 3ms/step - loss: 0.3637 - accuracy: 0.8655 - val_loss: 0.3692 - val_accuracy: 0.8678\n",
            "Epoch 6/20\n",
            "1875/1875 [==============================] - 6s 3ms/step - loss: 0.3489 - accuracy: 0.8731 - val_loss: 0.3590 - val_accuracy: 0.8715\n",
            "Epoch 7/20\n",
            "1875/1875 [==============================] - 6s 3ms/step - loss: 0.3381 - accuracy: 0.8757 - val_loss: 0.3820 - val_accuracy: 0.8667\n",
            "Epoch 8/20\n",
            "1875/1875 [==============================] - 6s 3ms/step - loss: 0.3314 - accuracy: 0.8767 - val_loss: 0.3558 - val_accuracy: 0.8697\n",
            "Epoch 9/20\n",
            "1875/1875 [==============================] - 6s 3ms/step - loss: 0.3271 - accuracy: 0.8804 - val_loss: 0.3690 - val_accuracy: 0.8682\n",
            "Epoch 10/20\n",
            "1875/1875 [==============================] - 6s 3ms/step - loss: 0.3145 - accuracy: 0.8834 - val_loss: 0.3809 - val_accuracy: 0.8650\n",
            "Epoch 11/20\n",
            "1875/1875 [==============================] - 6s 3ms/step - loss: 0.3023 - accuracy: 0.8879 - val_loss: 0.3768 - val_accuracy: 0.8652\n",
            "Epoch 12/20\n",
            "1875/1875 [==============================] - 6s 3ms/step - loss: 0.3104 - accuracy: 0.8858 - val_loss: 0.3651 - val_accuracy: 0.8756\n",
            "Epoch 13/20\n",
            "1875/1875 [==============================] - 7s 4ms/step - loss: 0.3059 - accuracy: 0.8895 - val_loss: 0.3770 - val_accuracy: 0.8685\n",
            "Epoch 14/20\n",
            "1875/1875 [==============================] - 7s 4ms/step - loss: 0.2996 - accuracy: 0.8902 - val_loss: 0.3838 - val_accuracy: 0.8743\n",
            "Epoch 15/20\n",
            "1875/1875 [==============================] - 7s 4ms/step - loss: 0.2941 - accuracy: 0.8926 - val_loss: 0.3737 - val_accuracy: 0.8728\n",
            "Epoch 16/20\n",
            "1875/1875 [==============================] - 7s 4ms/step - loss: 0.2930 - accuracy: 0.8934 - val_loss: 0.3814 - val_accuracy: 0.8743\n",
            "Epoch 17/20\n",
            "1875/1875 [==============================] - 7s 4ms/step - loss: 0.2921 - accuracy: 0.8935 - val_loss: 0.3814 - val_accuracy: 0.8683\n",
            "Epoch 18/20\n",
            "1875/1875 [==============================] - 7s 3ms/step - loss: 0.2857 - accuracy: 0.8959 - val_loss: 0.3893 - val_accuracy: 0.8754\n",
            "Epoch 19/20\n",
            "1875/1875 [==============================] - 7s 3ms/step - loss: 0.2834 - accuracy: 0.8955 - val_loss: 0.3901 - val_accuracy: 0.8773\n",
            "Epoch 20/20\n",
            "1875/1875 [==============================] - 7s 4ms/step - loss: 0.2767 - accuracy: 0.8981 - val_loss: 0.3740 - val_accuracy: 0.8773\n"
          ],
          "name": "stdout"
        }
      ]
    },
    {
      "cell_type": "code",
      "metadata": {
        "colab": {
          "base_uri": "https://localhost:8080/",
          "height": 282
        },
        "id": "3XjrSiOlhcDv",
        "outputId": "e1411fcb-2b0d-42ea-87a1-e74e8b55da8f"
      },
      "source": [
        "#Plot loss per iteration\n",
        "\n",
        "plt.plot(r.history['loss'], label='loss')\n",
        "plt.plot(r.history['val_loss'], label='val_loss')\n",
        "plt.legend()"
      ],
      "execution_count": 38,
      "outputs": [
        {
          "output_type": "execute_result",
          "data": {
            "text/plain": [
              "<matplotlib.legend.Legend at 0x7f58f2ceb2d0>"
            ]
          },
          "metadata": {
            "tags": []
          },
          "execution_count": 38
        },
        {
          "output_type": "display_data",
          "data": {
            "image/png": "[encoded data removed]",
            "text/plain": [
              "<Figure size 432x288 with 1 Axes>"
            ]
          },
          "metadata": {
            "tags": [],
            "needs_background": "light"
          }
        }
      ]
    },
    {
      "cell_type": "code",
      "metadata": {
        "id": "HVqj1LvBhwY6"
      },
      "source": [
        "#observe : loss(train_data) is going down but \n",
        "#    val_loss going up after 10 epochs which says model is OVERFITTING"
      ],
      "execution_count": 26,
      "outputs": []
    },
    {
      "cell_type": "code",
      "metadata": {
        "colab": {
          "base_uri": "https://localhost:8080/",
          "height": 286
        },
        "id": "ezRrgcuBiXMb",
        "outputId": "af5837a5-0d23-4a42-a392-e2c122260086"
      },
      "source": [
        "#Plot accuracy per iteration\n",
        "plt.plot(r.history['accuracy'], label='accuracy')\n",
        "plt.plot(r.history['val_accuracy'], label='val_accuracy')\n",
        "plt.legend()"
      ],
      "execution_count": 39,
      "outputs": [
        {
          "output_type": "execute_result",
          "data": {
            "text/plain": [
              "<matplotlib.legend.Legend at 0x7f58967bff50>"
            ]
          },
          "metadata": {
            "tags": []
          },
          "execution_count": 39
        },
        {
          "output_type": "display_data",
          "data": {
            "image/png": "[encoded data removed]",
            "text/plain": [
              "<Figure size 432x288 with 1 Axes>"
            ]
          },
          "metadata": {
            "tags": [],
            "needs_background": "light"
          }
        }
      ]
    },
    {
      "cell_type": "code",
      "metadata": {
        "id": "rUMu8GlAisuo"
      },
      "source": [
        "#observation: val_accuracy is mostly steady AND\n",
        "#      val_loss going up which says \n",
        "# MODEL IS BECOMING CONFIDENT IN MAKING INCORRECT PREDICTIONS."
      ],
      "execution_count": 28,
      "outputs": []
    },
    {
      "cell_type": "code",
      "metadata": {
        "id": "XjIQGZofjeK4"
      },
      "source": [
        "#I HAVE TRIED SO MANY VALUES STILL IT ALWAYS OVERFITS A LITTLE, AGAIN ITS HYPERPARAMETER TUNING "
      ],
      "execution_count": 28,
      "outputs": []
    }
  ]
}